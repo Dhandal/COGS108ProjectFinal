{
 "cells": [
  {
   "cell_type": "markdown",
   "metadata": {},
   "source": [
    "# COGS 108 - Final Project\n",
    "\n",
    "### Overview\n",
    "\n",
    "The anime community has a wide diaspora of individuals ranging from all ages and all locations across the globe. This has piqued our interest as we are curious about what the statistics are like for various users and how they like to interact with anime.\n",
    "\n",
    "### Names\n",
    "\n",
    "- Aaron Lee\n",
    "- Cassie Zhu\n",
    "- Tina Chen\n",
    "- Dillon Handal\n",
    "- Emery Lin\n",
    "\n",
    "### Research Question\n",
    "\n",
    "Could age affect the various genre types that a user would like?\n",
    "\n",
    "### Background & Prior Work\n",
    "\n",
    "This project is quite similar to movie recommendations except that we are examining a different type of dataset and medium. Thus, we can apply similar concepts that are quite useful. For example in this whitepaper, https://beta.vu.nl/nl/Images/werkstuk-fernandez_tcm235-874624.pdf, there are discussions of several approaches to Netflix movie recommender system. You can have a basic model that just recommends the popular titles; however, this approach may not be the most accurate given that users may not like the popular titles. For a more precise prediction, you can examine how close users could be or in fact, examine the similarity between the titles in terms of synopsis or content. \n",
    "\n",
    "In the pursuit to find a strong and accurate predictor, the whitepaper reveals comparisons of different models. Given the results of the comparison, they provide somewhat of a roadmap for routes or ideas we can possibly explore. We can try different types of models using all the available data in our dataset. This way we can plot and analyze the data to get meaningful conclusions about our question.\n",
    "\n",
    "\n",
    "### Hypothesis\n",
    "\n",
    "We believe that there are some generational differences in terms of anime preference. On a general level, we think that older people tend to prefer more serious genres (Seinen, etc.) compared to younger ones who would prefer genres such as shoujo or shounen."
   ]
  },
  {
   "cell_type": "markdown",
   "metadata": {},
   "source": [
    "# Dataset\n",
    "\n",
    "Our datasets will consist of public data only. We chose to use public data because it is what’s mostly readily available and easily searched for. Our main source of data will be from the MyAnimeList website because it has the largest consolidation of the anime and manga titles as well as user rating lists. \n",
    "\n",
    "https://myanimelist.net/ - According to the MyAnimeList website forum, the statistics list over 6.5 million users. While a small fraction of users may be just dummy or throwaway accounts, the majority of users have actual ratings lists that we can use in our analysis. If we need to scrape this, we can use an API but we will also need to clean up the dataset so it is usable and there are no odd inputs.\n",
    "\t\n",
    "https://www.kaggle.com/azathoth42/myanimelist - This dataset from Kaggle has already parsed and filtered out sensitive information. It has some useful information that we can examine. We also do not have to clean up the data for use.\n",
    "\n",
    "https://jikan.moe/ - This API can be used to interface with MAL’s website to get useful information without having to scrape and parse the website manually. It will be important in being able to get more features to examine in solving our question."
   ]
  },
  {
   "cell_type": "markdown",
   "metadata": {},
   "source": [
    "# Data Analysis"
   ]
  },
  {
   "cell_type": "markdown",
   "metadata": {},
   "source": [
    "We chose to use the above kaggle set because it was already cleaned and everything was set up. We just need to check that the distribution of data is normal or at least if there is any bias, we are able to spot it out immediately. Some data may not be accurate so we would also need to prune and check for those."
   ]
  },
  {
   "cell_type": "code",
   "execution_count": 4,
   "metadata": {},
   "outputs": [],
   "source": [
    "%matplotlib inline\n",
    "\n",
    "# Import libraries\n",
    "import numpy as np\n",
    "import pandas as pd\n",
    "import matplotlib.pyplot as plt\n",
    "import seaborn as sns\n",
    "import requests\n",
    "import json\n",
    "from bs4 import BeautifulSoup\n",
    "from time import sleep\n",
    "from IPython.display import clear_output"
   ]
  },
  {
   "cell_type": "code",
   "execution_count": 5,
   "metadata": {},
   "outputs": [],
   "source": [
    "# Configure libraries\n",
    "# The seaborn library makes plots look nicer\n",
    "sns.set()\n",
    "sns.set_context('talk')\n",
    "\n",
    "# Don't display too many rows/cols of DataFrames\n",
    "pd.options.display.max_rows = 10\n",
    "pd.options.display.max_columns = 10\n",
    "\n",
    "# Round decimals when displaying DataFrames\n",
    "pd.set_option('precision', 2)"
   ]
  },
  {
   "cell_type": "code",
   "execution_count": 32,
   "metadata": {},
   "outputs": [],
   "source": [
    "# import cleaned csvs\n",
    "animeFiltered = pd.read_csv('myanimelist/anime_filtered.csv')\n",
    "usersFiltered = pd.read_csv('myanimelist/users_filtered.csv')\n",
    "animelistFiltered = pd.read_csv('myanimelist/animelists_filtered.csv')"
   ]
  },
  {
   "cell_type": "code",
   "execution_count": 33,
   "metadata": {},
   "outputs": [
    {
     "data": {
      "text/html": [
       "<div>\n",
       "<style scoped>\n",
       "    .dataframe tbody tr th:only-of-type {\n",
       "        vertical-align: middle;\n",
       "    }\n",
       "\n",
       "    .dataframe tbody tr th {\n",
       "        vertical-align: top;\n",
       "    }\n",
       "\n",
       "    .dataframe thead th {\n",
       "        text-align: right;\n",
       "    }\n",
       "</style>\n",
       "<table border=\"1\" class=\"dataframe\">\n",
       "  <thead>\n",
       "    <tr style=\"text-align: right;\">\n",
       "      <th></th>\n",
       "      <th>username</th>\n",
       "      <th>user_id</th>\n",
       "      <th>user_watching</th>\n",
       "      <th>user_completed</th>\n",
       "      <th>user_onhold</th>\n",
       "      <th>...</th>\n",
       "      <th>join_date</th>\n",
       "      <th>last_online</th>\n",
       "      <th>stats_mean_score</th>\n",
       "      <th>stats_rewatched</th>\n",
       "      <th>stats_episodes</th>\n",
       "    </tr>\n",
       "  </thead>\n",
       "  <tbody>\n",
       "    <tr>\n",
       "      <th>0</th>\n",
       "      <td>karthiga</td>\n",
       "      <td>2255153</td>\n",
       "      <td>3</td>\n",
       "      <td>49</td>\n",
       "      <td>1</td>\n",
       "      <td>...</td>\n",
       "      <td>2013-03-03</td>\n",
       "      <td>2014-02-04 01:32:00</td>\n",
       "      <td>7.43</td>\n",
       "      <td>0.0</td>\n",
       "      <td>3391.0</td>\n",
       "    </tr>\n",
       "    <tr>\n",
       "      <th>1</th>\n",
       "      <td>RedvelvetDaisuki</td>\n",
       "      <td>1897606</td>\n",
       "      <td>61</td>\n",
       "      <td>396</td>\n",
       "      <td>39</td>\n",
       "      <td>...</td>\n",
       "      <td>2012-12-13</td>\n",
       "      <td>1900-05-13 02:47:00</td>\n",
       "      <td>6.78</td>\n",
       "      <td>80.0</td>\n",
       "      <td>7094.0</td>\n",
       "    </tr>\n",
       "    <tr>\n",
       "      <th>2</th>\n",
       "      <td>Damonashu</td>\n",
       "      <td>37326</td>\n",
       "      <td>45</td>\n",
       "      <td>195</td>\n",
       "      <td>27</td>\n",
       "      <td>...</td>\n",
       "      <td>2008-02-13</td>\n",
       "      <td>1900-03-24 12:48:00</td>\n",
       "      <td>6.15</td>\n",
       "      <td>6.0</td>\n",
       "      <td>4936.0</td>\n",
       "    </tr>\n",
       "    <tr>\n",
       "      <th>3</th>\n",
       "      <td>bskai</td>\n",
       "      <td>228342</td>\n",
       "      <td>25</td>\n",
       "      <td>414</td>\n",
       "      <td>2</td>\n",
       "      <td>...</td>\n",
       "      <td>2009-08-31</td>\n",
       "      <td>2014-05-12 16:35:00</td>\n",
       "      <td>8.27</td>\n",
       "      <td>1.0</td>\n",
       "      <td>10081.0</td>\n",
       "    </tr>\n",
       "    <tr>\n",
       "      <th>4</th>\n",
       "      <td>terune_uzumaki</td>\n",
       "      <td>327311</td>\n",
       "      <td>5</td>\n",
       "      <td>5</td>\n",
       "      <td>0</td>\n",
       "      <td>...</td>\n",
       "      <td>2010-05-10</td>\n",
       "      <td>2012-10-18 19:06:00</td>\n",
       "      <td>9.70</td>\n",
       "      <td>6.0</td>\n",
       "      <td>920.0</td>\n",
       "    </tr>\n",
       "  </tbody>\n",
       "</table>\n",
       "<p>5 rows × 17 columns</p>\n",
       "</div>"
      ],
      "text/plain": [
       "           username  user_id  user_watching  user_completed  user_onhold  \\\n",
       "0          karthiga  2255153              3              49            1   \n",
       "1  RedvelvetDaisuki  1897606             61             396           39   \n",
       "2         Damonashu    37326             45             195           27   \n",
       "3             bskai   228342             25             414            2   \n",
       "4    terune_uzumaki   327311              5               5            0   \n",
       "\n",
       "       ...         join_date          last_online  stats_mean_score  \\\n",
       "0      ...        2013-03-03  2014-02-04 01:32:00              7.43   \n",
       "1      ...        2012-12-13  1900-05-13 02:47:00              6.78   \n",
       "2      ...        2008-02-13  1900-03-24 12:48:00              6.15   \n",
       "3      ...        2009-08-31  2014-05-12 16:35:00              8.27   \n",
       "4      ...        2010-05-10  2012-10-18 19:06:00              9.70   \n",
       "\n",
       "  stats_rewatched stats_episodes  \n",
       "0             0.0         3391.0  \n",
       "1            80.0         7094.0  \n",
       "2             6.0         4936.0  \n",
       "3             1.0        10081.0  \n",
       "4             6.0          920.0  \n",
       "\n",
       "[5 rows x 17 columns]"
      ]
     },
     "execution_count": 33,
     "metadata": {},
     "output_type": "execute_result"
    }
   ],
   "source": [
    "usersFiltered[:5]"
   ]
  },
  {
   "cell_type": "markdown",
   "metadata": {},
   "source": [
    "Since we're interested in the age distribution, we can plot the age groups and total anime watched per age group to get an idea if we have a balanced dataset."
   ]
  },
  {
   "cell_type": "code",
   "execution_count": 45,
   "metadata": {},
   "outputs": [],
   "source": [
    "# add age column to usersFiltered data frame\n",
    "now = pd.Timestamp('now')\n",
    "\n",
    "# remove the two users who have odd birth dates\n",
    "usersCleaned = usersFiltered.drop([78772, 89578])\n",
    "\n",
    "usersCleaned['birth_date'] = pd.to_datetime(usersCleaned['birth_date'], format='%Y-%m-%d')\n",
    "usersCleaned['age'] = (now - usersCleaned['birth_date']).astype('<m8[Y]').astype(int)"
   ]
  },
  {
   "cell_type": "code",
   "execution_count": 70,
   "metadata": {},
   "outputs": [
    {
     "data": {
      "image/png": "[encoded data removed]",
      "text/plain": [
       "<Figure size 432x288 with 1 Axes>"
      ]
     },
     "metadata": {},
     "output_type": "display_data"
    }
   ],
   "source": [
    "# plot histogram of age range\n",
    "histogram = usersCleaned.hist(column=\"age\", bins=50)\n",
    "plt.title('Age vs Users')\n",
    "plt.xlabel('Age')\n",
    "plt.ylabel('Total Number of Users')\n",
    "plt.show()"
   ]
  },
  {
   "cell_type": "markdown",
   "metadata": {},
   "source": [
    "Given that our age range is mostly constricted around the twenties to forties, we can break our age group further into generational gaps to find a certain pattern that helps answer our research question."
   ]
  },
  {
   "cell_type": "code",
   "execution_count": 76,
   "metadata": {},
   "outputs": [
    {
     "name": "stderr",
     "output_type": "stream",
     "text": [
      "'c' argument looks like a single numeric RGB or RGBA sequence, which should be avoided as value-mapping will have precedence in case its length matches with 'x' & 'y'.  Please use a 2-D array with a single row if you really want to specify the same RGB or RGBA value for all points.\n"
     ]
    },
    {
     "data": {
      "image/png": "[encoded data removed]",
      "text/plain": [
       "<Figure size 432x288 with 1 Axes>"
      ]
     },
     "metadata": {},
     "output_type": "display_data"
    }
   ],
   "source": [
    "# plot age groups to total anime watching or completed\n",
    "usersCleaned['total_watched'] = usersCleaned['user_watching'] + usersCleaned['user_completed']\n",
    "\n",
    "plot = usersCleaned[['age', 'total_watched']].plot.scatter('age', 'total_watched')\n",
    "plt.title('Age vs Total Anime Watched')\n",
    "plt.xlabel('Age')\n",
    "plt.ylabel('Total Watched')\n",
    "plt.show()"
   ]
  },
  {
   "cell_type": "markdown",
   "metadata": {},
   "source": [
    "It's interesting to see a rough distribution of how much anime certain age groups have watched. It seems like that the young adults age range has watched a lot of anime which could indicate a wide genre of anime they are interested in."
   ]
  },
  {
   "cell_type": "markdown",
   "metadata": {},
   "source": [
    "# Privacy / Ethics Considerations\n",
    "\n",
    "In regards to the project, we are using publicly available data. However, the data needs to be cleaned as it contains location data and usernames. We will need to parse to make sure there are no odd revealing pieces of data around. Once we have accomplished this part, the data we use and display would not reveal any confidential information. Aside from this, we are in compliance with the Terms of Service provided by MyAnimeList so our data usage will be ethically safe. Furthermore, users on MyAnimeList are also able to restrict the view of their ratings list so if they did not want their ratings used by any third party application, they could simply restrict who is able to view their lists.\n",
    "\n",
    "The data results from this project do not contain user sensitive information as everything is anonymized. The purpose of the project is just to see if there is a way to draw meaningful correlations between anime or manga to create predictions. However, the results of the project may have some biased results as we will end up selecting a random population from the total users on MAL. This may create bias since it’s possible that users may have a preference to certain kinds of anime over others which would skew the data analysis and prediction."
   ]
  },
  {
   "cell_type": "markdown",
   "metadata": {},
   "source": [
    "# Conclusion & Discussion\n",
    "\n"
   ]
  },
  {
   "cell_type": "markdown",
   "metadata": {},
   "source": []
  }
 ],
 "metadata": {
  "kernelspec": {
   "display_name": "Python 3",
   "language": "python",
   "name": "python3"
  },
  "language_info": {
   "codemirror_mode": {
    "name": "ipython",
    "version": 3
   },
   "file_extension": ".py",
   "mimetype": "text/x-python",
   "name": "python",
   "nbconvert_exporter": "python",
   "pygments_lexer": "ipython3",
   "version": "3.7.0"
  }
 },
 "nbformat": 4,
 "nbformat_minor": 2
}
