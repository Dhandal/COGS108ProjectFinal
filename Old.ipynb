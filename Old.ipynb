{
 "cells": [
  {
   "cell_type": "markdown",
   "metadata": {},
   "source": [
    "# COGS 108 - Final Project Validation "
   ]
  },
  {
   "cell_type": "markdown",
   "metadata": {},
   "source": [
    "# Data Analysis\n",
    "\n",
    "This data that we have scraped can serve to validate our hypothesis on a new dataset."
   ]
  },
  {
   "cell_type": "code",
   "execution_count": 79,
   "metadata": {},
   "outputs": [],
   "source": [
    "%matplotlib inline\n",
    "\n",
    "# Import libraries\n",
    "import numpy as np\n",
    "import pandas as pd\n",
    "import matplotlib.pyplot as plt\n",
    "import seaborn as sns\n",
    "import requests\n",
    "import json\n",
    "from bs4 import BeautifulSoup\n",
    "from time import sleep\n",
    "from IPython.display import clear_output"
   ]
  },
  {
   "cell_type": "code",
   "execution_count": 2,
   "metadata": {},
   "outputs": [],
   "source": [
    "# Configure libraries\n",
    "# The seaborn library makes plots look nicer\n",
    "sns.set()\n",
    "sns.set_context('talk')\n",
    "\n",
    "# Don't display too many rows/cols of DataFrames\n",
    "pd.options.display.max_rows = 10\n",
    "pd.options.display.max_columns = 10\n",
    "\n",
    "# Round decimals when displaying DataFrames\n",
    "pd.set_option('precision', 2)"
   ]
  },
  {
   "cell_type": "markdown",
   "metadata": {},
   "source": [
    "We will scrape MAL for its recent users and get information about what they decide to publicly list on their profile and ratings lists."
   ]
  },
  {
   "cell_type": "code",
   "execution_count": 32,
   "metadata": {},
   "outputs": [],
   "source": [
    "# Useful functions for getting user data\n",
    "\n",
    "def get_recent_users():\n",
    "    \"\"\" Returns recent users \"\"\"\n",
    "    r = requests.get('https://myanimelist.net/users.php', timeout=10)\n",
    "\n",
    "    if r.status_code == 200:\n",
    "        soup = BeautifulSoup(r.text, 'lxml')\n",
    "\n",
    "        # Finds recent users td\n",
    "        td = soup.find_all('td', attrs={'align':'center', 'class':'borderClass'})\n",
    "        users = []\n",
    "\n",
    "        # Appends users to a list\n",
    "        for e in td:\n",
    "            users.append(e.find('div').text)\n",
    "        return users\n",
    "    \n",
    "def getUserInformation(user):\n",
    "    if user is not \"\":\n",
    "        return requests.get('https://api.jikan.moe/v3/user/{}/profile'.format(user)).text\n",
    "    return None\n",
    "\n",
    "def insertInfoIntoDataFrame(df, info):\n",
    "    info = json.loads(info)\n",
    "    local = pd.DataFrame({'username': [info['username']],\n",
    "                          'location': [info['location']],\n",
    "                          'Anime-Watching': [info['anime_stats']['watching']],\n",
    "                          'Anime-Completed': [info['anime_stats']['completed']],\n",
    "                          'Anime-Total': [info['anime_stats']['total_entries']],\n",
    "                          'Anime-Mean-Score': [info['anime_stats']['mean_score']],\n",
    "                          'Manga-Reading': [info['manga_stats']['reading']],\n",
    "                          'Manga-Completed': [info['manga_stats']['completed']],\n",
    "                          'Manga-Total': [info['manga_stats']['total_entries']],\n",
    "                          'Manga-Mean-Score': [info['manga_stats']['mean_score']]})\n",
    "    local = local.set_index('username')\n",
    "    df = df.combine_first(local)\n",
    "    return df"
   ]
  },
  {
   "cell_type": "code",
   "execution_count": 4,
   "metadata": {},
   "outputs": [],
   "source": [
    "userInfo = pd.DataFrame()\n",
    "\n",
    "# Insert column headers to userInfo DataFrame\n",
    "userInfo['username'] = \"\"\n",
    "userInfo['location'] = None\n",
    "userInfo['Anime-Watching'] = 0\n",
    "userInfo['Anime-Completed'] = 0\n",
    "userInfo['Anime-Total'] = 0\n",
    "userInfo['Anime-Mean-Score'] = 0\n",
    "userInfo['Manga-Reading'] = 0\n",
    "userInfo['Manga-Completed'] = 0\n",
    "userInfo['Manga-Total'] = 0\n",
    "userInfo['Manga-Mean-Score'] = 0\n",
    "userInfo = userInfo.set_index('username')"
   ]
  },
  {
   "cell_type": "code",
   "execution_count": 145,
   "metadata": {},
   "outputs": [],
   "source": [
    "# skips scraping since it takes a very long time\n",
    "skip = True\n",
    "\n",
    "# Grabs a bunch of recent users and inserts them into the userInfo DataFrame\n",
    "for i in range(10):\n",
    "    \n",
    "    # variable to skip downloading as this takes a long time\n",
    "    if skip:\n",
    "        continue\n",
    "    \n",
    "    # iterates 10 times and waits 5 seconds in between fetching new users\n",
    "    for user in get_recent_users():\n",
    "        userInfo = insertInfoIntoDataFrame(userInfo, getUserInformation(user))\n",
    "        sleep(2)\n",
    "    sleep(4)"
   ]
  },
  {
   "cell_type": "code",
   "execution_count": 44,
   "metadata": {},
   "outputs": [],
   "source": [
    "if not skip:\n",
    "    userInfo.to_csv('userInfo.csv')\n",
    "else:\n",
    "    userInfo = pd.read_csv('userInfo.csv', index_col='username')"
   ]
  },
  {
   "cell_type": "code",
   "execution_count": 45,
   "metadata": {},
   "outputs": [],
   "source": [
    "# functions for parsing anime list\n",
    "def getAnimeList(user):\n",
    "    if user is not \"\":\n",
    "        r = requests.get('https://api.jikan.moe/v3/user/{}/animelist'.format(user))\n",
    "        if r.status_code == 200:\n",
    "            return r.text\n",
    "        return None\n",
    "    return None\n",
    "\n",
    "def insertAnimeUser(df, info, name, animeInfo):\n",
    "    if info is None:\n",
    "        return df, animeInfo\n",
    "    \n",
    "    info = json.loads(info)\n",
    "    titles = []\n",
    "    ratings = []\n",
    "    mal_id = []\n",
    "    \n",
    "    # insert all anime titles to titles list\n",
    "    # insert all ratings to ratings list\n",
    "    for anime in info['anime']:\n",
    "        titles.append(str(anime['title']))\n",
    "        ratings.append(anime['score'])\n",
    "        mal_id.append(anime['mal_id'])\n",
    "    \n",
    "    local = pd.DataFrame({'anime': titles,\n",
    "                          str(name): ratings})\n",
    "    local = local.set_index('anime')\n",
    "    df = df.combine_first(local)\n",
    "    \n",
    "    localInfo = pd.DataFrame({'anime': titles,\n",
    "                             'mal_id': mal_id})\n",
    "    localInfo = localInfo.set_index('anime')\n",
    "    animeInfo = animeInfo.combine_first(localInfo)\n",
    "    return df, animeInfo"
   ]
  },
  {
   "cell_type": "code",
   "execution_count": 46,
   "metadata": {},
   "outputs": [],
   "source": [
    "animeUser = pd.DataFrame()\n",
    "animeInfo = pd.DataFrame()\n",
    "\n",
    "# pull user animelists\n",
    "for index, row in userInfo.iterrows():\n",
    "    username = row.name\n",
    "    \n",
    "    if skip:\n",
    "        continue\n",
    "    \n",
    "    # grab anime list\n",
    "    animeUser, animeInfo = insertAnimeUser(animeUser, getAnimeList(username), username, animeInfo)\n",
    "    sleep(1)"
   ]
  },
  {
   "cell_type": "code",
   "execution_count": 49,
   "metadata": {},
   "outputs": [],
   "source": [
    "if not skip:\n",
    "    animeUser.to_csv('animeUser.csv')\n",
    "    animeInfo.to_csv('animeInfo.csv')\n",
    "else:\n",
    "    animeUser = pd.read_csv('animeUser.csv', index_col='anime')\n",
    "    animeInfo = pd.read_csv('animeInfo.csv', index_col='anime')"
   ]
  },
  {
   "cell_type": "code",
   "execution_count": 119,
   "metadata": {},
   "outputs": [],
   "source": [
    "# functions for getting anime info\n",
    "def getAnimeInfo(anime):\n",
    "    r = requests.get('https://api.jikan.moe/v3/anime/{}'.format(anime))\n",
    "    if r.status_code == 200:\n",
    "        return r.text\n",
    "    return None\n",
    "\n",
    "def insertAnimeInfo(df, info):\n",
    "    if info is None:\n",
    "        return df\n",
    "    \n",
    "    info = json.loads(info)\n",
    "    # insert anime info into df\n",
    "    local = pd.DataFrame({'anime': info['title'],\n",
    "                          'mal_id': int(info['mal_id']),\n",
    "                          'title_japanese': info['title_japanese'],\n",
    "                          'type': info['type'],\n",
    "                          'episodes': info['episodes'],\n",
    "                          'synopsis': info['synopsis'],\n",
    "                          'status': info['status'],\n",
    "                          'score': info['score'],\n",
    "                          'url': info['url'],\n",
    "                          'popularity': info['popularity'],\n",
    "                          'members': info['members'],\n",
    "                          'scored_by': info['scored_by'],\n",
    "                          'rank': info['rank']}, index=['anime'])\n",
    "    local = local.set_index('anime')\n",
    "    df = df.combine_first(local)\n",
    "    return df"
   ]
  },
  {
   "cell_type": "code",
   "execution_count": 127,
   "metadata": {},
   "outputs": [
    {
     "name": "stdout",
     "output_type": "stream",
     "text": [
      "◯\n"
     ]
    }
   ],
   "source": [
    "# pull anime info\n",
    "for index, row in animeInfo.iterrows():\n",
    "    \n",
    "    if skip:\n",
    "        continue\n",
    "    \n",
    "    # grab anime info\n",
    "    animeInfo = insertAnimeInfo(animeInfo, getAnimeInfo(int(row.mal_id)))\n",
    "    clear_output(wait=True)\n",
    "    print(index)\n",
    "    sleep(0.5)"
   ]
  },
  {
   "cell_type": "code",
   "execution_count": 148,
   "metadata": {},
   "outputs": [],
   "source": [
    "if 'anime' in animeInfo.columns:\n",
    "    animeInfo = animeInfo.drop('anime', axis=1)\n",
    "animeInfo = animeInfo.rename_axis('anime')\n",
    "\n",
    "if not skip:\n",
    "    animeInfo.to_csv('animeInfo.csv')\n",
    "else:\n",
    "    animeInfo = pd.read_csv('animeInfo.csv', index_col='anime')"
   ]
  },
  {
   "cell_type": "markdown",
   "metadata": {},
   "source": [
    "Now that we have scraped the data, we need to clean it up before analysis. We will need to replace null values as well as make sure there are values in each cell of the data frame."
   ]
  },
  {
   "cell_type": "code",
   "execution_count": 1,
   "metadata": {},
   "outputs": [],
   "source": [
    "# clean up users data frame"
   ]
  },
  {
   "cell_type": "markdown",
   "metadata": {},
   "source": [
    "# Privacy / Ethics Considerations\n",
    "\n",
    "In regards to the project, we are using publicly available data. However, the data needs to be cleaned as it contains location data and usernames. We will need to parse to make sure there are no odd revealing pieces of data around. Once we have accomplished this part, the data we use and display would not reveal any confidential information. Aside from this, we are in compliance with the Terms of Service provided by MyAnimeList so our data usage will be ethically safe. Furthermore, users on MyAnimeList are also able to restrict the view of their ratings list so if they did not want their ratings used by any third party application, they could simply restrict who is able to view their lists.\n",
    "\n",
    "The data results from this project do not contain user sensitive information as everything is anonymized. The purpose of the project is just to see if there is a way to draw meaningful correlations between anime or manga to create predictions. However, the results of the project may have some biased results as we will end up selecting a random population from the total users on MAL. This may create bias since it’s possible that users may have a preference to certain kinds of anime over others which would skew the data analysis and prediction."
   ]
  },
  {
   "cell_type": "markdown",
   "metadata": {},
   "source": [
    "# Conclusion & Discussion\n",
    "\n"
   ]
  },
  {
   "cell_type": "code",
   "execution_count": null,
   "metadata": {},
   "outputs": [],
   "source": []
  }
 ],
 "metadata": {
  "kernelspec": {
   "display_name": "Python 3",
   "language": "python",
   "name": "python3"
  },
  "language_info": {
   "codemirror_mode": {
    "name": "ipython",
    "version": 3
   },
   "file_extension": ".py",
   "mimetype": "text/x-python",
   "name": "python",
   "nbconvert_exporter": "python",
   "pygments_lexer": "ipython3",
   "version": "3.6.7"
  }
 },
 "nbformat": 4,
 "nbformat_minor": 2
}
